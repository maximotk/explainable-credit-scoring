{
 "cells": [
  {
   "cell_type": "markdown",
   "id": "b4e852d3",
   "metadata": {},
   "source": [
    "## STEP 9"
   ]
  },
  {
   "cell_type": "code",
   "execution_count": 48,
   "id": "282fe7e8",
   "metadata": {},
   "outputs": [],
   "source": [
    "from joblib import load\n",
    "\n",
    "optimized_xgb = load('optimized_xgb_model.pkl')\n",
    "\n",
    "y_pred = optimized_xgb.predict(X_test)"
   ]
  },
  {
   "cell_type": "code",
   "execution_count": 49,
   "id": "a7f2dfdd",
   "metadata": {},
   "outputs": [
    {
     "name": "stdout",
     "output_type": "stream",
     "text": [
      "{0: 208280, 1: 8968}\n"
     ]
    }
   ],
   "source": [
    "import numpy as np\n",
    "\n",
    "unique, counts = np.unique(y_pred, return_counts=True)\n",
    "print(dict(zip(unique, counts)))\n"
   ]
  },
  {
   "cell_type": "code",
   "execution_count": 50,
   "id": "ac6d6e89",
   "metadata": {},
   "outputs": [
    {
     "name": "stdout",
     "output_type": "stream",
     "text": [
      "Index(['issue_d', 'loan duration', 'annual_inc', 'avg_cur_bal',\n",
      "       'bc_open_to_buy', 'bc_util', 'delinq_2yrs', 'dti', 'emp_length',\n",
      "       'emp_title', 'fico_range_high', 'funded_amnt', 'grade',\n",
      "       'home_ownership', 'inq_last_6mths', 'int_rate', 'mo_sin_old_rev_tl_op',\n",
      "       'mo_sin_rcnt_rev_tl_op', 'mo_sin_rcnt_tl', 'mort_acc',\n",
      "       'mths_since_recent_bc', 'num_actv_bc_tl', 'num_bc_tl', 'num_il_tl',\n",
      "       'num_rev_accts', 'open_acc', 'pub_rec', 'pub_rec_bankruptcies',\n",
      "       'purpose', 'revol_bal', 'revol_util', 'sub_grade', 'target',\n",
      "       'tax_liens', 'zip_code', 'Pct_afro_american'],\n",
      "      dtype='object')\n"
     ]
    },
    {
     "data": {
      "text/plain": [
       "count    1.086236e+06\n",
       "mean     1.290673e+01\n",
       "std      1.206943e+01\n",
       "min      4.301260e-02\n",
       "25%      3.971440e+00\n",
       "50%      8.868146e+00\n",
       "75%      1.853919e+01\n",
       "max      7.036799e+01\n",
       "Name: Pct_afro_american, dtype: float64"
      ]
     },
     "execution_count": 50,
     "metadata": {},
     "output_type": "execute_result"
    }
   ],
   "source": [
    "print(df.columns)\n",
    "df[\"Pct_afro_american\"].head()\n",
    "df[\"Pct_afro_american\"].describe()\n",
    "\n",
    "# the only ethcnicity variable is Pct_afro_american: Average percentage of African American people living in the area covered by the three-digit ZIP code (census)"
   ]
  },
  {
   "cell_type": "code",
   "execution_count": 51,
   "id": "a52ad284",
   "metadata": {},
   "outputs": [
    {
     "name": "stdout",
     "output_type": "stream",
     "text": [
      "Low     109416\n",
      "High    107832\n",
      "Name: count, dtype: int64\n"
     ]
    }
   ],
   "source": [
    "#splitting the test set by median of this variable\n",
    "\n",
    "# Extract protected attribute for test set\n",
    "pct_afro = df.loc[X_test.index, \"Pct_afro_american\"]\n",
    "\n",
    "# Median split\n",
    "median_val = pct_afro.median()\n",
    "ethnicity_group = pd.Series(\n",
    "    [\"High\" if val > median_val else \"Low\" for val in pct_afro],\n",
    "    index=pct_afro.index\n",
    ")\n",
    "\n",
    "print(ethnicity_group.value_counts())\n"
   ]
  },
  {
   "cell_type": "code",
   "execution_count": 52,
   "id": "11b7d299",
   "metadata": {},
   "outputs": [
    {
     "name": "stdout",
     "output_type": "stream",
     "text": [
      "         y_true  y_pred  Pct_afro_american ethnicity_group  annual_inc  \\\n",
      "199648      0.0       0           6.669588             Low    128000.0   \n",
      "465152      0.0       0           4.657994             Low    128000.0   \n",
      "1061172     0.0       0          15.194674            High     53000.0   \n",
      "356750      0.0       0           1.698836             Low     31000.0   \n",
      "485653      0.0       0           6.522108             Low     70000.0   \n",
      "\n",
      "         fico_range_high grade  loan_duration  \n",
      "199648             729.0     B            1.0  \n",
      "465152             719.0     C            1.0  \n",
      "1061172            779.0     A            0.0  \n",
      "356750             674.0     D            0.0  \n",
      "485653             674.0     D            0.0  \n",
      "ethnicity_group\n",
      "Low     109416\n",
      "High    107832\n",
      "Name: count, dtype: int64\n"
     ]
    }
   ],
   "source": [
    "# Creating a new df : results_df\n",
    "results_df = pd.DataFrame({\n",
    "    \"y_true\": y_test,\n",
    "    \"y_pred\": y_pred,\n",
    "    \"Pct_afro_american\": df.loc[X_test.index, \"Pct_afro_american\"],\n",
    "    \"ethnicity_group\": ethnicity_group,\n",
    "    \"annual_inc\": df.loc[X_test.index, \"annual_inc\"],\n",
    "    \"fico_range_high\": df.loc[X_test.index, \"fico_range_high\"],\n",
    "    \"grade\": df.loc[X_test.index, \"grade\"],\n",
    "    \"loan_duration\": df.loc[X_test.index, \"loan duration\"]   # rename to avoid space in column name\n",
    "})\n",
    "\n",
    "# ⚠️ Rename column so it has no space\n",
    "results_df = results_df.rename(columns={\"loan_duration\": \"loan_duration\"})\n",
    "\n",
    "# Quick check\n",
    "print(results_df.head())\n",
    "print(results_df[\"ethnicity_group\"].value_counts())"
   ]
  },
  {
   "cell_type": "code",
   "execution_count": 53,
   "id": "8c140d79",
   "metadata": {},
   "outputs": [
    {
     "name": "stdout",
     "output_type": "stream",
     "text": [
      "\n",
      "Demographic parity (selection rate):\n",
      " ethnicity_group\n",
      "High    0.046776\n",
      "Low     0.035863\n",
      "Name: y_pred, dtype: float64\n"
     ]
    }
   ],
   "source": [
    "import pandas as pd\n",
    "from sklearn.metrics import confusion_matrix, precision_score, roc_auc_score\n",
    "\n",
    "# === 1. Statistical Parity (Demographic Parity)b\n",
    "dp = results_df.groupby(\"ethnicity_group\")[\"y_pred\"].mean()\n",
    "print(\"\\nDemographic parity (selection rate):\\n\", dp)\n",
    "\n"
   ]
  },
  {
   "cell_type": "code",
   "execution_count": 54,
   "id": "15136d97",
   "metadata": {},
   "outputs": [
    {
     "name": "stdout",
     "output_type": "stream",
     "text": [
      "Weighted gap (max-min across groups within strata): 0.012221650699489016\n",
      "Weighted ratio (min/max across groups within strata, valid strata only): 0.550842066648761\n"
     ]
    },
    {
     "name": "stderr",
     "output_type": "stream",
     "text": [
      "/var/folders/jd/_41jr63j245210xpt44m7yjh0000gn/T/ipykernel_7075/3551137818.py:23: FutureWarning: The default of observed=False is deprecated and will be changed to True in a future version of pandas. Pass observed=False to retain current behavior or observed=True to adopt the future default and silence this warning.\n",
      "  work.groupby(strata + [group_col])[yhat_col]\n",
      "/var/folders/jd/_41jr63j245210xpt44m7yjh0000gn/T/ipykernel_7075/3551137818.py:36: FutureWarning: The default of observed=False is deprecated and will be changed to True in a future version of pandas. Pass observed=False to retain current behavior or observed=True to adopt the future default and silence this warning.\n",
      "  weights = work.groupby(strata).size().reindex(gaps.index).rename(\"n\")\n"
     ]
    }
   ],
   "source": [
    "# 2. Conditional statistical parity with safe ratio calculation\n",
    "def conditional_stat_parity_stratified(\n",
    "    df,\n",
    "    group_col=\"ethnicity_group\",\n",
    "    cond_spec={\"annual_inc\": \"q4\", \"fico_range_high\": \"q4\", \"grade\": \"cat\", \"loan_duration\": \"cat\"},\n",
    "    yhat_col=\"y_pred\",\n",
    "):\n",
    "    work = df[[group_col, yhat_col] + list(cond_spec.keys())].copy()\n",
    "\n",
    "    # Bin continuous variables, cast categoricals\n",
    "    for col, spec in cond_spec.items():\n",
    "        if spec.startswith(\"q\"):  # e.g. \"q4\" for quartiles\n",
    "            q = int(spec[1:])\n",
    "            work[col] = pd.qcut(work[col], q=q, duplicates=\"drop\")\n",
    "        elif spec == \"cat\":\n",
    "            work[col] = work[col].astype(\"category\")\n",
    "        else:\n",
    "            raise ValueError(f\"Unknown spec for {col}: {spec}\")\n",
    "\n",
    "    # Selection rate within each stratum and group\n",
    "    strata = list(cond_spec.keys())\n",
    "    rates = (\n",
    "        work.groupby(strata + [group_col])[yhat_col]\n",
    "            .mean()\n",
    "            .unstack(group_col)\n",
    "    )\n",
    "\n",
    "    # Keep only strata where both groups are present\n",
    "    rates = rates.dropna()\n",
    "\n",
    "    # Per-stratum gap and ratio\n",
    "    gaps = (rates.max(axis=1) - rates.min(axis=1)).rename(\"gap\")\n",
    "    ratios = (rates.min(axis=1) / rates.max(axis=1)).rename(\"ratio\")\n",
    "\n",
    "    # Stratum weights (number of samples per stratum)\n",
    "    weights = work.groupby(strata).size().reindex(gaps.index).rename(\"n\")\n",
    "\n",
    "    # Weighted gap (always valid)\n",
    "    w_gap = np.average(gaps.values, weights=weights.values)\n",
    "\n",
    "    # Weighted ratio (only valid strata, drop NaNs)\n",
    "    valid_ratios = ratios.dropna()\n",
    "    if not valid_ratios.empty:\n",
    "        w_ratio = np.average(valid_ratios.values, weights=weights.loc[valid_ratios.index].values)\n",
    "    else:\n",
    "        w_ratio = np.nan\n",
    "\n",
    "    # Build summary table\n",
    "    summary = pd.DataFrame({\n",
    "        \"n\": weights,\n",
    "        \"gap\": gaps,\n",
    "        \"ratio\": ratios\n",
    "    }).sort_values(\"n\", ascending=False)\n",
    "\n",
    "    return w_gap, w_ratio, rates, summary\n",
    "\n",
    "\n",
    "# === Run it ===\n",
    "w_gap, w_ratio, rate_table, per_stratum = conditional_stat_parity_stratified(\n",
    "    results_df,\n",
    "    group_col=\"ethnicity_group\",\n",
    "    cond_spec={\n",
    "        \"annual_inc\": \"q4\",\n",
    "        \"fico_range_high\": \"q4\",\n",
    "        \"grade\": \"cat\",\n",
    "        \"loan_duration\": \"cat\"\n",
    "    },\n",
    "    yhat_col=\"y_pred\"\n",
    ")\n",
    "\n",
    "print(\"Weighted gap (max-min across groups within strata):\", w_gap)\n",
    "print(\"Weighted ratio (min/max across groups within strata, valid strata only):\", w_ratio)\n",
    "\n"
   ]
  },
  {
   "cell_type": "code",
   "execution_count": 55,
   "id": "9de2600a",
   "metadata": {},
   "outputs": [
    {
     "name": "stdout",
     "output_type": "stream",
     "text": [
      "\n",
      "True positive rate (Equal opportunity):\n",
      " ethnicity_group\n",
      "High    0.123213\n",
      "Low     0.098867\n",
      "dtype: float64\n"
     ]
    },
    {
     "name": "stderr",
     "output_type": "stream",
     "text": [
      "/var/folders/jd/_41jr63j245210xpt44m7yjh0000gn/T/ipykernel_7075/15702600.py:6: DeprecationWarning: DataFrameGroupBy.apply operated on the grouping columns. This behavior is deprecated, and in a future version of pandas the grouping columns will be excluded from the operation. Either pass `include_groups=False` to exclude the groupings or explicitly select the grouping columns after groupby to silence this warning.\n",
      "  tpr_values = results_df.groupby(\"ethnicity_group\").apply(\n"
     ]
    }
   ],
   "source": [
    "\n",
    "# === 3. Equal Opportunity (True Positive Rate per group)\n",
    "def tpr(y_true, y_pred):\n",
    "    tn, fp, fn, tp = confusion_matrix(y_true, y_pred, labels=[0,1]).ravel()\n",
    "    return tp / (tp + fn) if (tp + fn) > 0 else float(\"nan\")\n",
    "\n",
    "tpr_values = results_df.groupby(\"ethnicity_group\").apply(\n",
    "    lambda g: tpr(g[\"y_true\"], g[\"y_pred\"])\n",
    ")\n",
    "print(\"\\nTrue positive rate (Equal opportunity):\\n\", tpr_values)\n",
    "\n"
   ]
  },
  {
   "cell_type": "code",
   "execution_count": 56,
   "id": "1e23c2fb",
   "metadata": {},
   "outputs": [
    {
     "name": "stdout",
     "output_type": "stream",
     "text": [
      "\n",
      "False positive rate (Equalized odds):\n",
      " ethnicity_group\n",
      "High    0.025397\n",
      "Low     0.019861\n",
      "dtype: float64\n"
     ]
    },
    {
     "name": "stderr",
     "output_type": "stream",
     "text": [
      "/var/folders/jd/_41jr63j245210xpt44m7yjh0000gn/T/ipykernel_7075/390353249.py:6: DeprecationWarning: DataFrameGroupBy.apply operated on the grouping columns. This behavior is deprecated, and in a future version of pandas the grouping columns will be excluded from the operation. Either pass `include_groups=False` to exclude the groupings or explicitly select the grouping columns after groupby to silence this warning.\n",
      "  fpr_values = results_df.groupby(\"ethnicity_group\").apply(\n"
     ]
    }
   ],
   "source": [
    "# === 4. False Positive Rate per group\n",
    "def fpr(y_true, y_pred):\n",
    "    tn, fp, fn, tp = confusion_matrix(y_true, y_pred, labels=[0,1]).ravel()\n",
    "    return fp / (fp + tn) if (fp + tn) > 0 else float(\"nan\")\n",
    "\n",
    "fpr_values = results_df.groupby(\"ethnicity_group\").apply(\n",
    "    lambda g: fpr(g[\"y_true\"], g[\"y_pred\"])\n",
    ")\n",
    "print(\"\\nFalse positive rate (Equalized odds):\\n\", fpr_values)\n",
    "\n"
   ]
  },
  {
   "cell_type": "code",
   "execution_count": 57,
   "id": "336d2e7e",
   "metadata": {},
   "outputs": [
    {
     "name": "stdout",
     "output_type": "stream",
     "text": [
      "\n",
      "Precision (Predictive parity):\n",
      " ethnicity_group\n",
      "High    0.575734\n",
      "Low     0.558359\n",
      "dtype: float64\n"
     ]
    },
    {
     "name": "stderr",
     "output_type": "stream",
     "text": [
      "/var/folders/jd/_41jr63j245210xpt44m7yjh0000gn/T/ipykernel_7075/2841586283.py:2: DeprecationWarning: DataFrameGroupBy.apply operated on the grouping columns. This behavior is deprecated, and in a future version of pandas the grouping columns will be excluded from the operation. Either pass `include_groups=False` to exclude the groupings or explicitly select the grouping columns after groupby to silence this warning.\n",
      "  prec_values = results_df.groupby(\"ethnicity_group\").apply(\n"
     ]
    }
   ],
   "source": [
    "# === 5. Predictive Parity (Precision per group)\n",
    "prec_values = results_df.groupby(\"ethnicity_group\").apply(\n",
    "    lambda g: precision_score(g[\"y_true\"], g[\"y_pred\"], zero_division=0)\n",
    ")\n",
    "print(\"\\nPrecision (Predictive parity):\\n\", prec_values)"
   ]
  },
  {
   "cell_type": "code",
   "execution_count": 58,
   "id": "d2d10726",
   "metadata": {},
   "outputs": [
    {
     "name": "stdout",
     "output_type": "stream",
     "text": [
      "=== Fairness Metrics by Group ===\n",
      "                 Statistical Parity (DP)  Equal Opportunity (TPR)  \\\n",
      "ethnicity_group                                                     \n",
      "High                              0.0468                   0.1232   \n",
      "Low                               0.0359                   0.0989   \n",
      "\n",
      "                 Equalized Odds (FPR)  Predictive Parity (Precision)  \n",
      "ethnicity_group                                                       \n",
      "High                           0.0254                         0.5757  \n",
      "Low                            0.0199                         0.5584  \n",
      "\n",
      "=== Disparities (across groups) ===\n",
      "                               Gap (max-min)  Ratio (min/max)\n",
      "Statistical Parity (DP)               0.0109            0.767\n",
      "Equal Opportunity (TPR)               0.0243            0.802\n",
      "Equalized Odds (FPR)                  0.0055            0.782\n",
      "Predictive Parity (Precision)         0.0174            0.970\n",
      "\n",
      "=== Conditional Statistical Parity ===\n",
      "Weighted gap (max-min across strata): 0.0122\n",
      "Weighted ratio (valid strata only): 0.551\n"
     ]
    }
   ],
   "source": [
    "import pandas as pd\n",
    "\n",
    "# Build summary DataFrame\n",
    "fairness_summary = pd.DataFrame({\n",
    "    \"Statistical Parity (DP)\": dp,\n",
    "    \"Equal Opportunity (TPR)\": tpr_values,\n",
    "    \"Equalized Odds (FPR)\": fpr_values,\n",
    "    \"Predictive Parity (Precision)\": prec_values\n",
    "})\n",
    "\n",
    "# Compute gaps and ratios for each metric\n",
    "gaps = fairness_summary.max() - fairness_summary.min()\n",
    "ratios = fairness_summary.min() / fairness_summary.max()\n",
    "\n",
    "# Nicely formatted output\n",
    "print(\"=== Fairness Metrics by Group ===\")\n",
    "print(fairness_summary.round(4))\n",
    "print(\"\\n=== Disparities (across groups) ===\")\n",
    "print(pd.DataFrame({\"Gap (max-min)\": gaps.round(4), \"Ratio (min/max)\": ratios.round(3)}))\n",
    "\n",
    "# Conditional SP\n",
    "print(\"\\n=== Conditional Statistical Parity ===\")\n",
    "print(f\"Weighted gap (max-min across strata): {w_gap:.4f}\")\n",
    "print(f\"Weighted ratio (valid strata only): {w_ratio:.3f}\")\n"
   ]
  }
 ],
 "metadata": {
  "kernelspec": {
   "display_name": "base",
   "language": "python",
   "name": "python3"
  },
  "language_info": {
   "codemirror_mode": {
    "name": "ipython",
    "version": 3
   },
   "file_extension": ".py",
   "mimetype": "text/x-python",
   "name": "python",
   "nbconvert_exporter": "python",
   "pygments_lexer": "ipython3",
   "version": "3.12.4"
  }
 },
 "nbformat": 4,
 "nbformat_minor": 5
}
